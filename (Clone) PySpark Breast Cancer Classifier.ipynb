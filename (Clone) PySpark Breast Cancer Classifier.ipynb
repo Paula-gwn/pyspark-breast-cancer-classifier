{
 "cells": [
  {
   "cell_type": "code",
   "execution_count": 0,
   "metadata": {
    "application/vnd.databricks.v1+cell": {
     "cellMetadata": {
      "byteLimit": 2048000,
      "rowLimit": 10000
     },
     "inputWidgets": {},
     "nuid": "3434ddee-f153-4b07-80c2-9b3488ae0b69",
     "showTitle": false,
     "tableResultSettingsMap": {},
     "title": ""
    }
   },
   "outputs": [],
   "source": [
    "from pyspark.sql import SparkSession\n",
    "from pyspark.ml.feature import VectorAssembler\n",
    "from pyspark.ml.classification import LogisticRegression\n",
    "from pyspark.ml.evaluation import BinaryClassificationEvaluator\n",
    "import pandas as pd\n",
    "from sklearn.datasets import load_breast_cancer\n",
    "\n",
    "# Databricks automatically creates a SparkSession called 'spark'\n",
    "\n",
    "# Load dataset with sklearn\n",
    "data = load_breast_cancer()\n",
    "df_pd = pd.DataFrame(data.data, columns=data.feature_names)\n",
    "df_pd[\"target\"] = data.target\n",
    "\n",
    "# Convert to Spark DataFrame\n",
    "df_spark = spark.createDataFrame(df_pd)\n",
    "\n",
    "# Assemble features\n",
    "features = data.feature_names[:5]  # Use first 5 features\n",
    "from pyspark.ml.feature import VectorAssembler\n",
    "assembler = VectorAssembler(inputCols=list(features), outputCol=\"features\")\n",
    "\n",
    "df_features = assembler.transform(df_spark)\n",
    "\n",
    "# Train-test split\n",
    "train_df, test_df = df_features.randomSplit([0.8, 0.2], seed=42)\n",
    "\n",
    "# Logistic regression model\n",
    "lr = LogisticRegression(labelCol=\"target\", featuresCol=\"features\")\n",
    "model = lr.fit(train_df)\n",
    "\n",
    "# Predictions\n",
    "predictions = model.transform(test_df)\n",
    "\n",
    "# Evaluate model using AUC\n",
    "evaluator = BinaryClassificationEvaluator(labelCol=\"target\")\n",
    "auc = evaluator.evaluate(predictions)\n",
    "print(f\"AUC on test data: {auc:.4f}\")\n"
   ]
  }
 ],
 "metadata": {
  "application/vnd.databricks.v1+notebook": {
   "computePreferences": null,
   "dashboards": [],
   "environmentMetadata": {
    "base_environment": "",
    "environment_version": "2"
   },
   "inputWidgetPreferences": null,
   "language": "python",
   "notebookMetadata": {
    "pythonIndentUnit": 4
   },
   "notebookName": "(Clone) PySpark Breast Cancer Classifier",
   "widgets": {}
  },
  "language_info": {
   "name": "python"
  }
 },
 "nbformat": 4,
 "nbformat_minor": 0
}
